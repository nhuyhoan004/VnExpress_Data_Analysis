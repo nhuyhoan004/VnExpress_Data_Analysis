{
 "cells": [
  {
   "cell_type": "code",
   "execution_count": 36,
   "metadata": {},
   "outputs": [],
   "source": [
    "import pandas as pd\n",
    "import string\n",
    "from underthesea import word_tokenize\n",
    "from sklearn.model_selection import train_test_split\n",
    "from sklearn.preprocessing import LabelEncoder\n",
    "from sklearn.feature_extraction.text import TfidfVectorizer\n",
    "import matplotlib.pyplot as plt\n",
    "import seaborn as sns"
   ]
  },
  {
   "cell_type": "code",
   "execution_count": 37,
   "metadata": {},
   "outputs": [],
   "source": [
    "# Đọc dữ liệu từ file CSV\n",
    "file_path = \"data\\data.csv\"\n",
    "data = pd.read_csv(file_path)"
   ]
  },
  {
   "cell_type": "code",
   "execution_count": 38,
   "metadata": {},
   "outputs": [
    {
     "name": "stdout",
     "output_type": "stream",
     "text": [
      "Topic distribution:\n",
      "Topic\n",
      "Thời sự         2000\n",
      "Thế giới        2000\n",
      "Kinh doanh      2000\n",
      "Bất động sản    2000\n",
      "Khoa học        2000\n",
      "Giải trí        2000\n",
      "Thể thao        2000\n",
      "Pháp luật       2000\n",
      "Giáo dục        2000\n",
      "Sức khỏe        2000\n",
      "Đời sống        2000\n",
      "Du lịch         2000\n",
      "Số hóa          2000\n",
      "Ôtô - Xe máy    2000\n",
      "Ý kiến          2000\n",
      "Name: count, dtype: int64\n"
     ]
    }
   ],
   "source": [
    "# Kiểm tra phân phối chủ đề\n",
    "topic_counts = data['Topic'].value_counts()\n",
    "print(\"Topic distribution:\")\n",
    "print(topic_counts)"
   ]
  },
  {
   "cell_type": "code",
   "execution_count": 39,
   "metadata": {},
   "outputs": [
    {
     "data": {
      "image/png": "[encoded data removed]",
      "text/plain": [
       "<Figure size 640x480 with 1 Axes>"
      ]
     },
     "metadata": {},
     "output_type": "display_data"
    }
   ],
   "source": [
    "# Thống kê độ dài văn bản\n",
    "data['Word_Count'] = data['Paragraph'].apply(lambda x: len(word_tokenize(x, format=\"text\").split()))\n",
    "plt.hist(data['Word_Count'], bins=30, color='blue', alpha=0.7)\n",
    "plt.title(\"Distribution of Paragraph Length\")\n",
    "plt.xlabel(\"Number of Words\")\n",
    "plt.ylabel(\"Frequency\")\n",
    "plt.show()"
   ]
  },
  {
   "cell_type": "code",
   "execution_count": 40,
   "metadata": {},
   "outputs": [],
   "source": [
    "# Chuẩn hóa văn bản\n",
    "vietnamese_stopwords = set([\n",
    "    \"là\", \"của\", \"và\", \"có\", \"với\", \"cho\", \"để\", \"nhưng\", \"rất\", \"vì\",\n",
    "    \"đã\", \"này\", \"ra\", \"nhiều\", \"trong\", \"lại\", \"còn\", \"khi\", \"ở\", \"như\",\n",
    "    \"cũng\", \"một\", \"năm\", \"tôi\", \"không\", \"được\", \"về\", \"thì\", \"nên\", \"này\"\n",
    "])"
   ]
  },
  {
   "cell_type": "code",
   "execution_count": 41,
   "metadata": {},
   "outputs": [],
   "source": [
    "data['Cleaned_Paragraph'] = data['Paragraph'].str.translate(\n",
    "    str.maketrans('', '', string.punctuation)\n",
    ").str.lower()\n",
    "data['Cleaned_Paragraph'] = data['Cleaned_Paragraph'].apply(\n",
    "    lambda x: \" \".join(\n",
    "        [word for word in word_tokenize(x, format=\"text\").split() if word not in vietnamese_stopwords]\n",
    "    )\n",
    ")"
   ]
  },
  {
   "cell_type": "code",
   "execution_count": null,
   "metadata": {},
   "outputs": [],
   "source": [
    "# Mã hóa nhãn chủ đề\n",
    "label_encoder = LabelEncoder()\n",
    "data['Encoded_Topic'] = label_encoder.fit_transform(data['Topic'])\n",
    "print(\"Encoded topics:\")\n",
    "print(label_encoder.classes_)"
   ]
  },
  {
   "cell_type": "code",
   "execution_count": 42,
   "metadata": {},
   "outputs": [
    {
     "name": "stdout",
     "output_type": "stream",
     "text": [
      "\n",
      "Topic: Thời sự\n",
      "Number of paragraphs: 2000\n",
      "Most common words: [('các', 1157), ('từ', 471), ('đến', 441), ('theo', 390), ('bộ', 369), ('dự_án', 357), ('ông', 347), ('người', 345), ('sẽ', 345), ('trên', 338)]\n",
      "\n",
      "Topic: Thế giới\n",
      "Number of paragraphs: 2000\n",
      "Most common words: [('các', 1004), ('ông', 957), ('tổng_thống', 580), ('người', 564), ('vào', 483), ('những', 433), ('tại', 396), ('sau', 394), ('từ', 392), ('sẽ', 382)]\n",
      "\n",
      "Topic: Kinh doanh\n",
      "Number of paragraphs: 2000\n",
      "Most common words: [('các', 1305), ('từ', 623), ('tại', 583), ('ông', 528), ('hơn', 469), ('tỷ', 449), ('theo', 440), ('đến', 435), ('tăng', 420), ('vào', 400)]\n",
      "\n",
      "Topic: Bất động sản\n",
      "Number of paragraphs: 2000\n",
      "Most common words: [('các', 1065), ('dự_án', 781), ('nhà', 721), ('tại', 709), ('khu', 621), ('đến', 610), ('đất', 609), ('từ', 514), ('đồng', 502), ('đầu_tư', 488)]\n",
      "\n",
      "Topic: Khoa học\n",
      "Number of paragraphs: 2000\n",
      "Most common words: [('các', 1448), ('từ', 695), ('những', 668), ('trên', 614), ('hơn', 565), ('vào', 548), ('có_thể', 544), ('theo', 519), ('nghiên_cứu', 511), ('sẽ', 505)]\n",
      "\n",
      "Topic: Giải trí\n",
      "Number of paragraphs: 2000\n",
      "Most common words: [('người', 807), ('các', 745), ('cô', 640), ('anh', 609), ('những', 587), ('từ', 429), ('sau', 403), ('hai', 399), ('phim', 396), ('đến', 390)]\n",
      "\n",
      "Topic: Thể thao\n",
      "Number of paragraphs: 2000\n",
      "Most common words: [('trận', 914), ('hai', 693), ('anh', 678), ('từ', 606), ('sau', 581), ('đó', 532), ('các', 529), ('đội', 484), ('sẽ', 476), ('đến', 468)]\n",
      "\n",
      "Topic: Pháp luật\n",
      "Number of paragraphs: 2000\n",
      "Most common words: [('người', 693), ('các', 599), ('bị', 570), ('ông', 506), ('đến', 469), ('sau', 411), ('đó', 407), ('bà', 406), ('tiền', 370), ('ngày', 365)]\n",
      "\n",
      "Topic: Giáo dục\n",
      "Number of paragraphs: 2000\n",
      "Most common words: [('các', 994), ('trường', 668), ('thi', 513), ('đại_học', 494), ('giáo_dục', 459), ('học', 441), ('từ', 425), ('điểm', 402), ('theo', 401), ('học_sinh', 392)]\n",
      "\n",
      "Topic: Sức khỏe\n",
      "Number of paragraphs: 2000\n",
      "Most common words: [('các', 1124), ('có_thể', 762), ('người', 710), ('bệnh', 699), ('đến', 648), ('hoặc', 585), ('bác_sĩ', 539), ('giảm', 522), ('điều_trị', 429), ('hơn', 415)]\n",
      "\n",
      "Topic: Đời sống\n",
      "Number of paragraphs: 2000\n",
      "Most common words: [('các', 934), ('người', 913), ('những', 623), ('đến', 530), ('sáng_tạo', 437), ('từ', 428), ('nội_dung', 401), ('hơn', 385), ('anh', 378), ('nhà', 358)]\n",
      "\n",
      "Topic: Du lịch\n",
      "Number of paragraphs: 2000\n",
      "Most common words: [('các', 1073), ('đến', 809), ('từ', 638), ('du_khách', 611), ('khách', 562), ('những', 555), ('người', 440), ('tại', 440), ('du_lịch', 420), ('vào', 368)]\n",
      "\n",
      "Topic: Số hóa\n",
      "Number of paragraphs: 2000\n",
      "Most common words: [('các', 1165), ('người', 683), ('ai', 638), ('trên', 603), ('từ', 571), ('đó', 504), ('hơn', 497), ('dùng', 487), ('có_thể', 474), ('đến', 453)]\n",
      "\n",
      "Topic: Ôtô - Xe máy\n",
      "Number of paragraphs: 2000\n",
      "Most common words: [('xe', 2102), ('các', 1238), ('mẫu', 816), ('tại', 649), ('từ', 562), ('những', 516), ('hơn', 489), ('hãng', 471), ('trên', 458), ('người', 454)]\n",
      "\n",
      "Topic: Ý kiến\n",
      "Number of paragraphs: 2000\n",
      "Most common words: [('người', 1083), ('các', 765), ('đi', 647), ('những', 626), ('phải', 583), ('đó', 579), ('làm', 565), ('đến', 483), ('hơn', 471), ('vào', 469)]\n"
     ]
    }
   ],
   "source": [
    "# Hiển thị kết quả phân tích\n",
    "for topic, info in summary.items():\n",
    "    print(f\"\\nTopic: {topic}\")\n",
    "    print(f\"Number of paragraphs: {info['count']}\")\n",
    "    print(f\"Most common words: {info['most_common_words']}\")"
   ]
  }
 ],
 "metadata": {
  "kernelspec": {
   "display_name": "Python 3",
   "language": "python",
   "name": "python3"
  },
  "language_info": {
   "codemirror_mode": {
    "name": "ipython",
    "version": 3
   },
   "file_extension": ".py",
   "mimetype": "text/x-python",
   "name": "python",
   "nbconvert_exporter": "python",
   "pygments_lexer": "ipython3",
   "version": "3.10.11"
  }
 },
 "nbformat": 4,
 "nbformat_minor": 2
}
